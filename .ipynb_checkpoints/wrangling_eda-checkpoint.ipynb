{
 "cells": [
  {
   "cell_type": "markdown",
   "id": "fa6a3447-f25b-4834-8754-a59352e4c589",
   "metadata": {},
   "source": [
    "## Exploration and cleansing of yelp_review.csv"
   ]
  },
  {
   "cell_type": "code",
   "execution_count": null,
   "id": "738cc644-516f-44bb-8a21-73d9910d1a19",
   "metadata": {},
   "outputs": [],
   "source": [
    "import pandas as pd\n",
    "import numpy as np\n",
    "import sweetviz as sv"
   ]
  },
  {
   "cell_type": "code",
   "execution_count": null,
   "id": "4a6f6a95-c472-468b-8b26-b8dc555dff7a",
   "metadata": {},
   "outputs": [],
   "source": [
    "reviews = pd.read_csv('data/yelp_review.csv')\n",
    "reviews.head()"
   ]
  }
 ],
 "metadata": {
  "kernelspec": {
   "display_name": "Python 3",
   "language": "python",
   "name": "python3"
  },
  "language_info": {
   "codemirror_mode": {
    "name": "ipython",
    "version": 3
   },
   "file_extension": ".py",
   "mimetype": "text/x-python",
   "name": "python",
   "nbconvert_exporter": "python",
   "pygments_lexer": "ipython3",
   "version": "3.8.7"
  }
 },
 "nbformat": 4,
 "nbformat_minor": 5
}
